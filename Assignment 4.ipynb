{
 "cells": [
  {
   "cell_type": "markdown",
   "id": "0b9fb866",
   "metadata": {},
   "source": [
    "# Write a Python program to create a lambda function that adds 25 to a given number passed in as an argument.\n",
    "\n",
    "\n",
    "\n",
    "sample input: 10\n",
    "\n",
    "sample output: 35\n",
    "\n"
   ]
  },
  {
   "cell_type": "code",
   "execution_count": 1,
   "id": "ceece479",
   "metadata": {},
   "outputs": [
    {
     "name": "stdout",
     "output_type": "stream",
     "text": [
      "Enter any number of your choice :- 10\n",
      "35\n"
     ]
    }
   ],
   "source": [
    "# creating a lambda function to add 25 to any input number\n",
    "\n",
    "number= lambda x : x + 25        \n",
    "n = int(input(\"Enter any number of your choice :- \"))   \n",
    "print(number(n))     "
   ]
  },
  {
   "cell_type": "markdown",
   "id": "03c4b504",
   "metadata": {},
   "source": [
    "# Write a Python program to triple all numbers of a given list of integers. Use Python map.\n",
    "\n",
    "\n",
    "\n",
    "sample list: [1, 2, 3, 4, 5, 6, 7]\n",
    "\n",
    "\n",
    "\n",
    "Triple of list numbers:\n",
    "\n",
    "[3, 6, 9, 12, 15, 18, 21]\n",
    "\n"
   ]
  },
  {
   "cell_type": "code",
   "execution_count": 2,
   "id": "c1b19750",
   "metadata": {},
   "outputs": [
    {
     "name": "stdout",
     "output_type": "stream",
     "text": [
      "Original list:  [1, 2, 3, 4, 5, 6, 7]\n",
      "\n",
      "Triple of said list numbers:\n",
      "[3, 6, 9, 12, 15, 18, 21]\n"
     ]
    }
   ],
   "source": [
    "nums = [1, 2, 3, 4, 5, 6, 7] \n",
    "print(\"Original list: \", nums)\n",
    "result = map(lambda x: x + x + x, nums) \n",
    "print(\"\\nTriple of said list numbers:\")\n",
    "print(list(result))"
   ]
  },
  {
   "cell_type": "markdown",
   "id": "1c7cc23e",
   "metadata": {},
   "source": [
    "# Write a Python program to square the elements of a list using map() function.\n",
    "\n",
    "\n",
    "\n",
    "Sample List: [4, 5, 2, 9]\n",
    "\n",
    "Square the elements of the list:\n",
    "\n",
    "[16, 25, 4, 81]\n",
    "\n"
   ]
  },
  {
   "cell_type": "code",
   "execution_count": 4,
   "id": "f52a93df",
   "metadata": {},
   "outputs": [
    {
     "name": "stdout",
     "output_type": "stream",
     "text": [
      "Original List:  [4, 5, 2, 9]\n",
      "Square the elements of the list: [16, 25, 4, 81]\n"
     ]
    }
   ],
   "source": [
    "lst = [4, 5, 2, 9]\n",
    "def square(x):\n",
    "    return x**2\n",
    "squared_lst = list(map(square, lst))\n",
    "print(\"Original List: \",lst)\n",
    "print(\"Square the elements of the list:\", squared_lst)\n"
   ]
  },
  {
   "cell_type": "code",
   "execution_count": null,
   "id": "b219efde",
   "metadata": {},
   "outputs": [],
   "source": []
  }
 ],
 "metadata": {
  "kernelspec": {
   "display_name": "Python 3 (ipykernel)",
   "language": "python",
   "name": "python3"
  },
  "language_info": {
   "codemirror_mode": {
    "name": "ipython",
    "version": 3
   },
   "file_extension": ".py",
   "mimetype": "text/x-python",
   "name": "python",
   "nbconvert_exporter": "python",
   "pygments_lexer": "ipython3",
   "version": "3.10.9"
  }
 },
 "nbformat": 4,
 "nbformat_minor": 5
}
